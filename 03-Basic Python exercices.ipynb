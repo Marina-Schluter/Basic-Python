{
 "cells": [
  {
   "cell_type": "markdown",
   "metadata": {},
   "source": [
    "**1. Calcule 7 elevado a 4**"
   ]
  },
  {
   "cell_type": "code",
   "execution_count": 37,
   "metadata": {},
   "outputs": [
    {
     "data": {
      "text/plain": [
       "2401"
      ]
     },
     "execution_count": 37,
     "metadata": {},
     "output_type": "execute_result"
    }
   ],
   "source": [
    "# Para elevar un número a otro, se usa \"**\"\n",
    "\n",
    "7**4"
   ]
  },
  {
   "cell_type": "markdown",
   "metadata": {},
   "source": [
    "**2. Divida el siguiente string en una lista**\n",
    "```python\n",
    "s = 'Hi there, Sam!'\n",
    "```"
   ]
  },
  {
   "cell_type": "code",
   "execution_count": 38,
   "metadata": {},
   "outputs": [
    {
     "data": {
      "text/plain": [
       "['Hi', 'there,', 'Sam!']"
      ]
     },
     "execution_count": 38,
     "metadata": {},
     "output_type": "execute_result"
    }
   ],
   "source": [
    "#Variable proporcionada\n",
    "s=\"Hi there, Sam!\"\n",
    "\n",
    "# Para dividir strings, usamos \"split()\"\n",
    "s.split()"
   ]
  },
  {
   "cell_type": "markdown",
   "metadata": {},
   "source": [
    "**3. Dadas las variables**\n",
    "\n",
    "    planet = \"Earth\"\n",
    "    diameter = 12742\n",
    "\n",
    "**use el método .format() para imprimir el siguiente string:**\n",
    "```python\n",
    "'The diameter of Earth is 12742 kilometers.'\n",
    "```"
   ]
  },
  {
   "cell_type": "code",
   "execution_count": 39,
   "metadata": {},
   "outputs": [
    {
     "name": "stdout",
     "output_type": "stream",
     "text": [
      "The diameter of Earth is 12742 kilometers.\n",
      "The diameter of Earth is 12742 kilometers.\n"
     ]
    }
   ],
   "source": [
    "#Variables proporcionadas\n",
    "planet = \"Earth\"\n",
    "diameter = 12742\n",
    "\n",
    "#El método \"format\" se puede usar poniendo una \"f\" antes del string o poniendo \".format()\" de aquello que queremos transformar \n",
    "print(f\"The diameter of {planet} is {diameter} kilometers.\")\n",
    "print(\"The diameter of {} is {} kilometers.\".format(planet,diameter))"
   ]
  },
  {
   "cell_type": "markdown",
   "metadata": {},
   "source": [
    "**4. Dada la siguiente lista concatenada, obtenga de la misma el string 'hello':**\n",
    "\n",
    "```python\n",
    "lst = [1,2,[3,4],[5,[100,200,['hello']],23,11],1,7]\n",
    "```"
   ]
  },
  {
   "cell_type": "code",
   "execution_count": 40,
   "metadata": {},
   "outputs": [
    {
     "name": "stdout",
     "output_type": "stream",
     "text": [
      "hello\n"
     ]
    }
   ],
   "source": [
    "#Lista proporcionada\n",
    "lst = [1,2,[3,4],[5,[100,200,['hello']],23,11],1,7]\n",
    "\n",
    "#Cálculo de la posición del string \"hello\" dentro de la lista\n",
    "\"\"\"Hello está en la posición 0 de su lista: [\"Hello\"]\"\"\"\n",
    "\"\"\"En la lista que comienza en 100, Hello está en la posición 2 de su lista: 100,200,[\"Hello\"]\"\"\"\n",
    "\"\"\"En la lista que comienza en 5, Hello está en la posición 1 de su lista: [5,[100,200,[\"Hello\"]],23,11]\"\"\"\n",
    "\"\"\"En la lista que comienza en 1, Hello está en la posición 3 de su lista: [5,[100,200,[\"Hello\"]],23,11],1,7]\"\"\"\n",
    "\n",
    "#Busqueda y printeo el string\n",
    "string_hello=lst[3][1][2][0]\n",
    "print(string_hello)\n"
   ]
  },
  {
   "cell_type": "markdown",
   "metadata": {},
   "source": [
    "**5. Dado este diccionario concatenado**\n",
    "\n",
    "```python\n",
    "d = {'k1':[1,2,3,{'tricky':['oh','man','inception',{'target':[1,2,3,'hello']}]}]}\n",
    "```\n",
    "**obtenga el string 'hello':**"
   ]
  },
  {
   "cell_type": "code",
   "execution_count": 41,
   "metadata": {},
   "outputs": [
    {
     "name": "stdout",
     "output_type": "stream",
     "text": [
      "hello\n"
     ]
    }
   ],
   "source": [
    "#Diccionario proporcionado\n",
    "d = {'k1':[1,2,3,{'tricky':['oh','man','inception',{'target':[1,2,3,'hello']}]}]}\n",
    "\n",
    "#Cálculo de la posición del string \"hello\"\n",
    "\"\"\"Hello está en la posición 3 de la lista del diccionario \"target\"\"\"\n",
    "\"\"\"Hello está, en forma de diccionario, en la posición 3 de la lista del diccionario \"tricky\"\"\"\n",
    "\"\"\"Hello está, en orma de diccionario, en la posición 3 de la lista del diccionario \"k1\"\"\"\n",
    "\n",
    "#Búsqueda y printeo del string\n",
    "string_hello2=d[\"k1\"][3][\"tricky\"][3][\"target\"][3]\n",
    "print(string_hello2)\n"
   ]
  },
  {
   "cell_type": "markdown",
   "metadata": {},
   "source": [
    "**6. Implemente una función llamada domainGet que obtenga el dominio del email de un usuario. Por ejemplo, para el correo**\n",
    "```\n",
    "    user@domain.com\n",
    "```\n",
    "**se desprendería 'domain.com'. Compruebe el resultado con este propio email.**"
   ]
  },
  {
   "cell_type": "code",
   "execution_count": 42,
   "metadata": {},
   "outputs": [
    {
     "name": "stdout",
     "output_type": "stream",
     "text": [
      "domain.com\n"
     ]
    }
   ],
   "source": [
    "#Ejemplo que usaremos con la función\n",
    "email=\"user@domain.com\"\n",
    "\n",
    "#Función llamada domainGet\n",
    "def domainGet(email):\n",
    "    #Separar en 2 el email, usamos la arroba como separador (al igual que usaríamos la almoadilla en los tuits)\n",
    "    email_dividido=email.split(\"@\")\n",
    "    #Buscamos la segunda parte de la división, la que está en el índice 1 (la 0 sería el user)\n",
    "    domain=email_dividido[1]\n",
    "    #Resultado de la función\n",
    "    return domain\n",
    "\n",
    "#Aplicar función al ejemplo\n",
    "dominio=domainGet(email)\n",
    "\n",
    "#Mostar resultado\n",
    "print(dominio)\n"
   ]
  },
  {
   "cell_type": "code",
   "execution_count": 43,
   "metadata": {},
   "outputs": [
    {
     "data": {
      "text/plain": [
       "'domain.com'"
      ]
     },
     "execution_count": 43,
     "metadata": {},
     "output_type": "execute_result"
    }
   ],
   "source": [
    "#Una forma de acortar el código es usar una función lambda\n",
    "\n",
    "x=\"user@domain.com\"\n",
    "domainGet=lambda mail:mail.split(\"@\")[-1]\n",
    "domainGet(x)"
   ]
  },
  {
   "cell_type": "markdown",
   "metadata": {},
   "source": [
    "**7. Implemente una función llamada findDog, que tenga como entrada un string, que devuelva el valor True si ese string contiene la palabra 'dog'. Tenga en cuenta las posibles mayúsculas, y compruebe su función con el string 'Is there a dog here?'.**"
   ]
  },
  {
   "cell_type": "code",
   "execution_count": 44,
   "metadata": {},
   "outputs": [
    {
     "name": "stdout",
     "output_type": "stream",
     "text": [
      "True\n"
     ]
    }
   ],
   "source": [
    "#Ejemplo a usar\n",
    "string=\"Is there a Dog here?\"\n",
    "\n",
    "#Funciçon llamada findDog\n",
    "def findDog(string):\n",
    "    #Convertir mayúsculas en minúsculas\n",
    "    string_lower=string.lower()\n",
    "    #Devolver True si en el string está la palabra \"dog\"\n",
    "    return \"dog\" in string_lower\n",
    "        \n",
    "#Aplicar función al ejemplo y mostrar\n",
    "resultado=findDog(string)\n",
    "print(resultado)"
   ]
  },
  {
   "cell_type": "code",
   "execution_count": 45,
   "metadata": {},
   "outputs": [
    {
     "data": {
      "text/plain": [
       "True"
      ]
     },
     "execution_count": 45,
     "metadata": {},
     "output_type": "execute_result"
    }
   ],
   "source": [
    "#Una forma de acortar el código es usar una función lambda\n",
    "\n",
    "findDog=lambda frase:\"dog\" in frase.lower()\n",
    "findDog(\"Is there a dog here\")"
   ]
  },
  {
   "cell_type": "markdown",
   "metadata": {},
   "source": [
    "**8. Implemente una función similar a la del ejercicio anterior, pero que esta vez cuente el número de apariciones del string 'dog' en un cierto input. Compruebe sus resultados con el string:**\n",
    "\n",
    "```python\n",
    "'This dog runs faster than the other dog dude!'\n",
    "```"
   ]
  },
  {
   "cell_type": "code",
   "execution_count": 46,
   "metadata": {},
   "outputs": [
    {
     "name": "stdout",
     "output_type": "stream",
     "text": [
      "2\n"
     ]
    }
   ],
   "source": [
    "#Ejemplo a usar\n",
    "string=\"This dog runs faster than the other Dog dude!\"\n",
    "\n",
    "#Función para buscar y contar el número de veces que sale un elemento en el string\n",
    "def countDog(string):\n",
    "    #Convertir mayúsculas en minúsculas\n",
    "    string_lower=string.lower()\n",
    "    #Dividir el string en palabras ara contarlas\n",
    "    string_dividido=string_lower.split()\n",
    "    #Poner contador a 0\n",
    "    contaje=0\n",
    "    #Contar el número de apariciones de \"Dog\" en el string\n",
    "    for word in string_dividido:\n",
    "        if word==\"dog\":\n",
    "            contaje +=1\n",
    "    return contaje\n",
    "\n",
    "#Aplicar función y mostrar\n",
    "resultado=countDog(string)  \n",
    "print(resultado)  \n"
   ]
  },
  {
   "cell_type": "code",
   "execution_count": 47,
   "metadata": {},
   "outputs": [
    {
     "data": {
      "text/plain": [
       "2"
      ]
     },
     "execution_count": 47,
     "metadata": {},
     "output_type": "execute_result"
    }
   ],
   "source": [
    "#Una forma de acortar el código es usar una función lambda y una función count\n",
    "\n",
    "findDog=lambda frase:frase.lower().count(\"dog\")\n",
    "findDog(\"This dog runs faster than the other dog dude!\")"
   ]
  },
  {
   "cell_type": "markdown",
   "metadata": {},
   "source": [
    "**9. Use funciones lambda y la función .filter() para filtrar palabras de una lista que empiecen con la letra 's'. Por ejemplo,**\n",
    "```python\n",
    "seq = ['soup','dog','salad','cat','great']\n",
    "```\n",
    "\n",
    "**debería ser filtrado para obtener:**\n",
    "```python\n",
    "seq = ['soup','salad']\n",
    "```"
   ]
  },
  {
   "cell_type": "code",
   "execution_count": 48,
   "metadata": {},
   "outputs": [
    {
     "data": {
      "text/plain": [
       "['soup', 'salad']"
      ]
     },
     "execution_count": 48,
     "metadata": {},
     "output_type": "execute_result"
    }
   ],
   "source": [
    "#Lista de ejemplo\n",
    "seq = ['soup','dog','salad','cat','great']\n",
    "\n",
    "#Filtrar palabras que empiecen con la letra \"s\", hacerlo usando funciones lambda y .filter()\n",
    "list(filter(lambda x:x[0] in \"s\",seq))\n"
   ]
  },
  {
   "cell_type": "code",
   "execution_count": 49,
   "metadata": {},
   "outputs": [
    {
     "data": {
      "text/plain": [
       "['soup', 'salad']"
      ]
     },
     "execution_count": 49,
     "metadata": {},
     "output_type": "execute_result"
    }
   ],
   "source": [
    "#Si las palabras empezaran con mayúscula, se podría añadir la función lower para evitar fallos en la función\n",
    "\n",
    "seq = ['soup','dog','salad','cat','great']\n",
    "list(filter(lambda param:param[0].lower()==\"s\",seq))"
   ]
  }
 ],
 "metadata": {
  "kernelspec": {
   "display_name": "Python 3",
   "language": "python",
   "name": "python3"
  },
  "language_info": {
   "codemirror_mode": {
    "name": "ipython",
    "version": 3
   },
   "file_extension": ".py",
   "mimetype": "text/x-python",
   "name": "python",
   "nbconvert_exporter": "python",
   "pygments_lexer": "ipython3",
   "version": "3.10.10"
  }
 },
 "nbformat": 4,
 "nbformat_minor": 2
}
