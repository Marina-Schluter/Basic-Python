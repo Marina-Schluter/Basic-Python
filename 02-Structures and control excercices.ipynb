{
 "cells": [
  {
   "cell_type": "markdown",
   "metadata": {},
   "source": [
    "# **Estructuras y Control**"
   ]
  },
  {
   "cell_type": "markdown",
   "metadata": {},
   "source": [
    "#### **Ejercicio 1: Escribir un programa que le pida al usuario un número entero positivo y muestre por pantalla si el número es par o impar.**"
   ]
  },
  {
   "cell_type": "code",
   "execution_count": 1,
   "metadata": {},
   "outputs": [
    {
     "name": "stdout",
     "output_type": "stream",
     "text": [
      "33\n",
      "El 33 es un número impar\n"
     ]
    }
   ],
   "source": [
    "#Petición de número entero positivo al usuario\n",
    "numero=int(input(\"Añada un número entero positivo, por favor:\"))\n",
    "print(numero)\n",
    "\n",
    "#Mostar si el número indicado por el usuario es par o impar\n",
    "\n",
    "if numero % 2 == 0:\n",
    "    print(\"El\",numero, \"es un número par\")\n",
    "else:\n",
    "    print(\"El\", numero, \"es un número impar\")"
   ]
  },
  {
   "cell_type": "markdown",
   "metadata": {},
   "source": [
    "#### **Ejercicio 2: Escribir un programa que le pida al usuario un número entero positivo y muestre por pantalla todos los números impares desde 1 hasta ese número.**"
   ]
  },
  {
   "cell_type": "code",
   "execution_count": 2,
   "metadata": {},
   "outputs": [
    {
     "name": "stdout",
     "output_type": "stream",
     "text": [
      "28\n",
      "1,3,5,7,9,11,13,15,17,19,21,23,25,27,"
     ]
    }
   ],
   "source": [
    "#Petición de número entero positivo al usuario\n",
    "numero=int(input(\"Añada un número entero positivo, por favor:\"))\n",
    "print(numero)\n",
    "\n",
    "#Variables\n",
    "a=1\n",
    "b=numero\n",
    "\n",
    "#Mostrar en pantalla todos los números impares desde el 1 hasta en indicado por el usuario\n",
    "\n",
    "while a <= b:\n",
    "    print (a,end=\",\")\n",
    "    a=a+2"
   ]
  },
  {
   "cell_type": "markdown",
   "metadata": {},
   "source": [
    "#### **Ejercicio 3: Escribir un programa que le pida al usuario una cadena de texto y muestre por pantalla cuántas vocales contiene la cadena.**"
   ]
  },
  {
   "cell_type": "code",
   "execution_count": 3,
   "metadata": {},
   "outputs": [
    {
     "name": "stdout",
     "output_type": "stream",
     "text": [
      "anteojos\n",
      "El plato escogido tiene 4 vocales\n"
     ]
    }
   ],
   "source": [
    "#Petición de número entero positivo al usuario\n",
    "cadena=input(\"¿Qué plato quieres cocinar?:\")\n",
    "print(cadena)\n",
    "\n",
    "#Establecer listado de vocales\n",
    "vocales=\"aeiouAEIOU\"\n",
    "\n",
    "#Iniciar contador de vocales\n",
    "contador_vocales=0\n",
    "\n",
    "#Mostar cuántas vocales tiene la cadena\n",
    "\n",
    "for contaje in cadena:\n",
    "    if contaje in vocales:\n",
    "        contador_vocales=contador_vocales+1\n",
    "print(\"El plato escogido tiene\", contador_vocales, \"vocales\")"
   ]
  },
  {
   "cell_type": "markdown",
   "metadata": {},
   "source": [
    "#### **Ejercicio 4: Escribir un programa que le pida al usuario una lista de números y muestre por pantalla el número mayor de la lista**"
   ]
  },
  {
   "cell_type": "code",
   "execution_count": 4,
   "metadata": {},
   "outputs": [
    {
     "name": "stdout",
     "output_type": "stream",
     "text": [
      "23,85,63\n",
      "['23', '85', '63']\n",
      "<class 'list'>\n",
      "El número más alto es el 85\n"
     ]
    }
   ],
   "source": [
    "#Petición de una lista de números al usuario\n",
    "numeros=(input(\"Separados por comas, introduce 3 números entre el 1 y el 99, por favor:\"))\n",
    "print(numeros)\n",
    "\n",
    "#Convertir números obtenidos en lista de números\n",
    "numeros_lista=numeros.split(\",\")\n",
    "print(numeros_lista)\n",
    "print(type(numeros_lista))\n",
    "\n",
    "#Buscar número mayor\n",
    "mayor=max(numeros_lista)\n",
    "\n",
    "#Mostar el número más alto de la lista\n",
    "print(\"El número más alto es el\", mayor)"
   ]
  },
  {
   "cell_type": "markdown",
   "metadata": {},
   "source": [
    "#### **Ejercicio 5: Escribir un programa que genere una lista de números aleatorios y muestre por pantalla cuántos números son pares y cuántos son impares.**"
   ]
  },
  {
   "cell_type": "code",
   "execution_count": 1,
   "metadata": {},
   "outputs": [
    {
     "name": "stdout",
     "output_type": "stream",
     "text": [
      "[90, 20, 25, 2, 7]\n",
      "En esta lista de números, hay un total de 3 pares\n",
      "En esta lista de números, hay un total de 2 impares\n"
     ]
    }
   ],
   "source": [
    "#Importar biblioteca\n",
    "import random\n",
    "\n",
    "#Generar lista de números\n",
    "lista_aleatorios=[]\n",
    "\n",
    "for _ in range (5):\n",
    "    randomizador= random.randint(0,100)\n",
    "    lista_aleatorios.append(randomizador)\n",
    "\n",
    "print(lista_aleatorios)\n",
    "\n",
    "#Contadores para números pares e impares\n",
    "pares=0\n",
    "impares=0\n",
    "\n",
    "#Contar los números de cada tipo\n",
    "for contaje in lista_aleatorios:\n",
    "    if contaje%2==0:\n",
    "        pares+=1\n",
    "    else:\n",
    "        impares+=1\n",
    "\n",
    "#Mostrar resultado de los contajes\n",
    "print(\"En esta lista de números, hay un total de\",pares, \"pares\")\n",
    "print(\"En esta lista de números, hay un total de\",impares, \"impares\")"
   ]
  },
  {
   "cell_type": "markdown",
   "metadata": {},
   "source": [
    "#### **Ejercicio 6: Escribir un programa que le pida al usuario una cadena de texto y muestre por pantalla la misma cadena invertida.**"
   ]
  },
  {
   "cell_type": "code",
   "execution_count": 3,
   "metadata": {},
   "outputs": [
    {
     "name": "stdout",
     "output_type": "stream",
     "text": [
      "desde el otro lado\n",
      "Aquí puedes leer lo introducido al revés: odal orto le edsed\n"
     ]
    }
   ],
   "source": [
    "#Solicitar al usuario una cadena de texto\n",
    "cadena=input(\"¿Cuál es el nombre de tus abuelos maternos?:\")\n",
    "print(cadena)\n",
    "\n",
    "\n",
    "#Invertir cadena\n",
    "cadena_invertida=cadena[::-1]\n",
    "print(\"Aquí puedes leer lo introducido al revés:\",cadena_invertida)"
   ]
  },
  {
   "cell_type": "markdown",
   "metadata": {},
   "source": [
    "#### **Ejercicio 7: Escribir un programa que le pida al usuario una lista de números y muestre por pantalla la suma de todos los números de la lista.**"
   ]
  },
  {
   "cell_type": "code",
   "execution_count": 4,
   "metadata": {},
   "outputs": [
    {
     "name": "stdout",
     "output_type": "stream",
     "text": [
      "10 25 45 84\n",
      "<class 'str'>\n",
      "[10, 25, 45, 84]\n",
      "<class 'list'>\n",
      "Los números introducidos suman un total de: 164\n"
     ]
    }
   ],
   "source": [
    "#Petición de una lista de números al usuario\n",
    "numeros_usuario=input(\"Separados por espacios, introduce varios números entre el 1 y el 99, por favor:\")\n",
    "print(numeros_usuario)\n",
    "print(type(numeros_usuario))\n",
    "\n",
    "#Convertir números obtenidos en lista de números\n",
    "numeros_lista=[int(numero)for numero in numeros_usuario.split()]\n",
    "print(numeros_lista)\n",
    "print(type(numeros_lista))\n",
    "\n",
    "#Variable para la suma\n",
    "suma=0\n",
    "\n",
    "#Sumar los números de la lista\n",
    "for numero in numeros_lista:\n",
    "    suma+=numero\n",
    "\n",
    "#Mostar la suma\n",
    "print(\"Los números introducidos suman un total de:\",suma)"
   ]
  },
  {
   "cell_type": "markdown",
   "metadata": {},
   "source": [
    "#### **Ejercicio 8: Escribir un programa que le pida al usuario una cadena de texto y muestre por pantalla si la cadena es un palíndromo o no (es decir, si se lee igual de izquierda a derecha que de derecha a izquierda)..**"
   ]
  },
  {
   "cell_type": "code",
   "execution_count": 6,
   "metadata": {},
   "outputs": [
    {
     "name": "stdout",
     "output_type": "stream",
     "text": [
      "ana\n",
      "La palabra que has introducido es un palíndromo, es decir, se lee igual de izquierda a derecha que de derecha a izquierda\n"
     ]
    }
   ],
   "source": [
    "#Solicitar al usuario que escriba una cadena de texto\n",
    "cadena=input(\"¿Quieres saber si una palabra es un palíndromo? Introdúcela aquí, por favor:\")\n",
    "print(cadena)\n",
    "\n",
    "#Limpiar cadena para que no tenga en cuenta mayúsculas/minúsculas ni acentos\n",
    "def palindromo(cadena):\n",
    "    cadena=cadena.lower()\n",
    "    cadena=cadena.replace(\"á\",\"a\")\n",
    "    cadena=cadena.replace(\"é\",\"e\")\n",
    "    cadena=cadena.replace(\"í\",\"i\")\n",
    "    cadena=cadena.replace(\"ó\",\"o\")\n",
    "    cadena=cadena.replace(\"ú\",\"u\")\n",
    "\n",
    "    #Variables\n",
    "    primera_letra=0\n",
    "    ultima_letra=len(cadena)-1\n",
    "\n",
    "    #Comprobar si la cadena introducida es palíndromo o no\n",
    "    for verificar in range(0,len(cadena)):\n",
    "        if cadena [primera_letra]==cadena[ultima_letra]:\n",
    "            primera_letra+=1\n",
    "            ultima_letra-=1\n",
    "        else:\n",
    "            return False\n",
    "    return True\n",
    "\n",
    "#Mostrar resultado en pantalla\n",
    "if palindromo(cadena):\n",
    "    print(\"La palabra que has introducido es un palíndromo, es decir, se lee igual de izquierda a derecha que de derecha a izquierda\")\n",
    "else:\n",
    "    print(\"La palabra que has introducido no es un palíndromo\")"
   ]
  }
 ],
 "metadata": {
  "kernelspec": {
   "display_name": "Python 3",
   "language": "python",
   "name": "python3"
  },
  "language_info": {
   "codemirror_mode": {
    "name": "ipython",
    "version": 3
   },
   "file_extension": ".py",
   "mimetype": "text/x-python",
   "name": "python",
   "nbconvert_exporter": "python",
   "pygments_lexer": "ipython3",
   "version": "3.10.10"
  }
 },
 "nbformat": 4,
 "nbformat_minor": 2
}
