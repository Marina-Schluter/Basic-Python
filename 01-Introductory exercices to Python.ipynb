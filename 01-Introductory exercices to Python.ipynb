{
 "cells": [
  {
   "cell_type": "markdown",
   "metadata": {},
   "source": [
    "# **Ejercicios introductorios a Python**\n"
   ]
  },
  {
   "cell_type": "markdown",
   "metadata": {},
   "source": [
    "#### **1: Crear Variables de diferentes tipos de datos**\n",
    "\n",
    "Crea variables de los siguientes tipos de datos y asígnales valores:\n",
    "\n",
    "1. Número entero (int)   \n",
    "2. Número decimal (float)    \n",
    "3. Cadena de caracteres (str)    \n",
    "4. Valor booleano (bool)     \n"
   ]
  },
  {
   "cell_type": "code",
   "execution_count": 1,
   "metadata": {},
   "outputs": [
    {
     "name": "stdout",
     "output_type": "stream",
     "text": [
      "16\n",
      "52.6\n",
      "Bienvenidos, señores y señoras\n",
      "False\n"
     ]
    }
   ],
   "source": [
    "#1.Número entero (int)\n",
    "manzanas=16\n",
    "print(manzanas)\n",
    "\n",
    "#2.Número decimal (float)\n",
    "peso=52.6\n",
    "print(peso)\n",
    "\n",
    "#3.Cadena de caracteres (str)\n",
    "Bienvenida=\"Bienvenidos, señores y señoras\"\n",
    "print(Bienvenida)\n",
    "\n",
    "#4.Valor booleano (bool)\n",
    "booleano=False\n",
    "print(booleano)"
   ]
  },
  {
   "cell_type": "markdown",
   "metadata": {},
   "source": [
    "#### **Ejercicio 2: Operaciones aritméticas básicas**\n",
    "\n",
    "Dadas las variables a = 10 y b = 3, realiza las siguientes operaciones y guarda los resultados en nuevas variables:\n",
    "\n",
    "1. Suma     \n",
    "2. Resta    \n",
    "3. Multiplicación   \n",
    "4. División     "
   ]
  },
  {
   "cell_type": "code",
   "execution_count": 2,
   "metadata": {},
   "outputs": [
    {
     "name": "stdout",
     "output_type": "stream",
     "text": [
      "Suma: 13\n",
      "Resta: 7\n",
      "Multiplicación: 30\n",
      "División: 3.3333333333333335\n"
     ]
    }
   ],
   "source": [
    "# Variables iniciales\n",
    "a = 10\n",
    "b = 3\n",
    "\n",
    "# Operaciones y resultados\n",
    "suma_resultado = a + b\n",
    "print(\"Suma:\", suma_resultado)\n",
    "resta_resultado = a - b\n",
    "print(\"Resta:\", resta_resultado)\n",
    "multiplicacion_resultado = a * b\n",
    "print(\"Multiplicación:\", multiplicacion_resultado)\n",
    "division_resultado = a / b\n",
    "print(\"División:\", division_resultado)\n"
   ]
  },
  {
   "cell_type": "markdown",
   "metadata": {},
   "source": [
    "#### **Ejercicio 3: Listas**\n",
    "\n",
    "Crea una lista de números enteros y realiza las siguientes operaciones:\n",
    "\n",
    "1. Añade un nuevo elemento al final de la lista.    \n",
    "2. Inserta un elemento en una posición específica de la lista.  \n",
    "3. Elimina un elemento de la lista.     \n",
    "4. Obtiene la longitud de la lista. \n",
    "5. Accede a un elemento específico de la lista utilizando su índice. "
   ]
  },
  {
   "cell_type": "code",
   "execution_count": 3,
   "metadata": {},
   "outputs": [
    {
     "name": "stdout",
     "output_type": "stream",
     "text": [
      "[10, 15, 20, 25, 30, 35]\n",
      "[10, 15, 18, 20, 25, 30, 35]\n",
      "[10, 15, 20, 25, 30, 35]\n",
      "6\n",
      "25\n"
     ]
    }
   ],
   "source": [
    "#Lista de números enteros\n",
    "coches_aparcados=[10,15,20,25,30]\n",
    "\n",
    "#1.Añadir elemento al final de la lista\n",
    "coches_aparcados.append(35)\n",
    "print(coches_aparcados)\n",
    "\n",
    "#2.Añadir elemento en posición concreta\n",
    "coches_aparcados.insert(2,18)\n",
    "print(coches_aparcados)\n",
    "\n",
    "#3.Eliminar un elemento de la lista\n",
    "coches_aparcados.remove(18)\n",
    "print(coches_aparcados)\n",
    "\n",
    "#4.Obtener longitud de la lista\n",
    "print(len(coches_aparcados))\n",
    "\n",
    "#5.Acceder a un elemento específico de la lista usando el índice\n",
    "print(coches_aparcados[3])"
   ]
  },
  {
   "cell_type": "markdown",
   "metadata": {},
   "source": [
    "#### **Ejercicio 4: Tuplas**\n",
    "\n",
    "Crea una tupla con diferentes tipos de datos (int, float, str, bool) y accede a sus elementos utilizando índices."
   ]
  },
  {
   "cell_type": "code",
   "execution_count": 4,
   "metadata": {},
   "outputs": [
    {
     "name": "stdout",
     "output_type": "stream",
     "text": [
      "36.5\n",
      "37\n",
      "37.5\n",
      "38\n",
      "38.5\n",
      "febricula\n",
      "fiebre\n",
      "True\n"
     ]
    }
   ],
   "source": [
    "#Tupla con datos int,float,str y bool\n",
    "tupla_mixta=36.5,37,37.5,38,38.5,\"febricula\",\"fiebre\",True\n",
    "\n",
    "#Acceder a los elementos de la tupla usando índices\n",
    "print(tupla_mixta[0])\n",
    "print(tupla_mixta[1])\n",
    "print(tupla_mixta[2])\n",
    "print(tupla_mixta[3])\n",
    "print(tupla_mixta[4])\n",
    "print(tupla_mixta[5])\n",
    "print(tupla_mixta[6])\n",
    "print(tupla_mixta[7])"
   ]
  },
  {
   "cell_type": "markdown",
   "metadata": {},
   "source": [
    "#### **Ejercicio 5: Diccionarios**\n",
    "\n",
    "Crea un diccionario con al menos tres pares clave-valor y realiza las siguientes operaciones:\n",
    "\n",
    "1. Accede al valor de una clave específica.     \n",
    "2. Cambia el valor de una clave específica.     \n",
    "3. Agrega un nuevo par clave-valor al diccionario.  \n",
    "4. Elimina un par clave-valor del diccionario.  "
   ]
  },
  {
   "cell_type": "code",
   "execution_count": 5,
   "metadata": {},
   "outputs": [
    {
     "name": "stdout",
     "output_type": "stream",
     "text": [
      "{'nombre': 'Martin', 'edad': 7, 'ciudad': 'Barcelona', 'Colegio': 'Maristas'}\n",
      "7\n",
      "6\n",
      "{'nombre': 'Martin', 'edad': 6, 'ciudad': 'Barcelona', 'Colegio': 'Maristas', 'curso': 'primero'}\n",
      "{'nombre': 'Martin', 'edad': 6, 'ciudad': 'Barcelona', 'curso': 'primero'}\n"
     ]
    }
   ],
   "source": [
    "#Diccionario con al menos 3 pares clave-valor\n",
    "alumno={\"nombre\":\"Martin\",\"edad\":7,\"ciudad\":\"Barcelona\",\n",
    "        \"Colegio\":\"Maristas\"}\n",
    "print(alumno)\n",
    "\n",
    "#1.Acceso al valor de una clave específica\n",
    "print(alumno[\"edad\"])\n",
    "\n",
    "#2.Cambiando el valor de una clave específica\n",
    "alumno[\"edad\"]=6\n",
    "print(alumno[\"edad\"])\n",
    "\n",
    "#3.Agregar nuevo par clave-valor al diccionario\n",
    "alumno[\"curso\"]=\"primero\"\n",
    "print(alumno)\n",
    "\n",
    "#4.Eliminar un par clave-valor del diccionario\n",
    "del alumno[\"Colegio\"]\n",
    "print(alumno)"
   ]
  },
  {
   "cell_type": "markdown",
   "metadata": {},
   "source": [
    "#### **Ejercicio 6: Operadores de comparación**\n",
    "\n",
    "Dadas las variables x = 5 e y = 8, utiliza operadores de comparación (==, !=, >, <, >=, <=) para comparar sus valores y guarda los resultados en variables booleanas."
   ]
  },
  {
   "cell_type": "code",
   "execution_count": 6,
   "metadata": {},
   "outputs": [
    {
     "name": "stdout",
     "output_type": "stream",
     "text": [
      "False\n",
      "True\n",
      "False\n",
      "False\n",
      "True\n",
      "True\n"
     ]
    }
   ],
   "source": [
    "#variables iniciales\n",
    "x=5\n",
    "y=8\n",
    "\n",
    "#uso de operadores de comparación (==, !=, >, <, >=, <=)\n",
    "print(x==y)\n",
    "print(x!=y)\n",
    "print(x>y)\n",
    "print(x>=y)\n",
    "print(x<y)\n",
    "print(x<=y)"
   ]
  },
  {
   "cell_type": "markdown",
   "metadata": {},
   "source": [
    "#### **Ejercicio 7: Conversión de tipos de datos**\n",
    "\n",
    "Practica la conversión de tipos de datos con las siguientes operaciones:\n",
    "\n",
    "1. Convierte un número entero a float.  \n",
    "2. Convierte un número float a entero.  \n",
    "3. Convierte un número a cadena.    \n",
    "4. Convierte una cadena a número (si la cadena contiene un valor numérico válido).  "
   ]
  },
  {
   "cell_type": "code",
   "execution_count": 7,
   "metadata": {},
   "outputs": [
    {
     "name": "stdout",
     "output_type": "stream",
     "text": [
      "28.0\n",
      "23\n",
      "cadena: 28\n",
      "entero: 66\n"
     ]
    }
   ],
   "source": [
    "#variables iniciales a convertir\n",
    "grados=28\n",
    "metros=23.6\n",
    "cadena_numerica=66\n",
    "\n",
    "#1.Convertir número entero a float\n",
    "print(float(grados))\n",
    "\n",
    "#2.Convertir número float a entero\n",
    "print(int(metros))\n",
    "\n",
    "#3.Convertir número a cadena\n",
    "print(\"cadena:\",grados)\n",
    "\n",
    "#4.Convertir cadena a número (si la cadena tiene un valor numérico válido)\n",
    "print(\"entero:\",cadena_numerica)"
   ]
  }
 ],
 "metadata": {
  "kernelspec": {
   "display_name": "Python 3",
   "language": "python",
   "name": "python3"
  },
  "language_info": {
   "codemirror_mode": {
    "name": "ipython",
    "version": 3
   },
   "file_extension": ".py",
   "mimetype": "text/x-python",
   "name": "python",
   "nbconvert_exporter": "python",
   "pygments_lexer": "ipython3",
   "version": "3.10.10"
  }
 },
 "nbformat": 4,
 "nbformat_minor": 2
}
